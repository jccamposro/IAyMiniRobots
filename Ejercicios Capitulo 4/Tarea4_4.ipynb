{
  "nbformat": 4,
  "nbformat_minor": 0,
  "metadata": {
    "colab": {
      "provenance": [],
      "authorship_tag": "ABX9TyMPzmAuL8tIwk5qdHHsoumQ"
    },
    "kernelspec": {
      "name": "python3",
      "display_name": "Python 3"
    },
    "language_info": {
      "name": "python"
    }
  },
  "cells": [
    {
      "cell_type": "markdown",
      "source": [
        "# Capitulo 4 Ejercicio 4"
      ],
      "metadata": {
        "id": "qlTE8jfrNzKs"
      }
    },
    {
      "cell_type": "code",
      "source": [
        "import random\n",
        "import operator\n",
        "import matplotlib.pyplot as plt"
      ],
      "metadata": {
        "id": "ei3MV2k0QNiV"
      },
      "execution_count": null,
      "outputs": []
    },
    {
      "cell_type": "markdown",
      "source": [
        "**Conjunto de Terminales:**\n",
        "\n",
        "El conjunto de terminales representa las entradas y salidas del circuito lógico que estás tratando de diseñar.\n",
        "\n",
        "Los terminales son representados como caracteres individuales ('A', 'B', 'C', 'D', 'E', 'F', 'G'), que corresponden a las entradas y salidas del codificador de 7 segmentos. Cada uno de estos caracteres representa un cable o conexión en el circuito lógico."
      ],
      "metadata": {
        "id": "NPgh93w1QPRd"
      }
    },
    {
      "cell_type": "code",
      "source": [
        "# Terminales representan entradas lógicas y salidas del circuito\n",
        "terminales = ['A', 'B', 'C', 'D', 'E', 'F', 'G']"
      ],
      "metadata": {
        "id": "UpBBhO3UQegZ"
      },
      "execution_count": null,
      "outputs": []
    },
    {
      "cell_type": "markdown",
      "source": [
        "**Conjunto de Funciones:**\n",
        "\n",
        "El conjunto de funciones está compuesto por operaciones lógicas que se pueden aplicar a los terminales para diseñar el circuito.\n",
        "\n",
        "El conjunto de funciones incluye cuatro operaciones lógicas: 'AND', 'OR', 'NOT' y 'XOR'. Estas funciones son representadas como diccionario en Python, donde la clave es el nombre de la función y el valor es la función de Python correspondiente que realiza la operación lógica."
      ],
      "metadata": {
        "id": "XTBFRNyBQmOX"
      }
    },
    {
      "cell_type": "code",
      "source": [
        "# Funciones lógicas disponibles\n",
        "funciones = {\n",
        "    'AND': operator.and_,\n",
        "    'OR': operator.or_,\n",
        "    'NOT': operator.invert,\n",
        "    'XOR': operator.xor\n",
        "}\n"
      ],
      "metadata": {
        "id": "gkeW1I4QQhSq"
      },
      "execution_count": null,
      "outputs": []
    },
    {
      "cell_type": "markdown",
      "source": [
        "**Función de Aptitud**:\n",
        "\n",
        "La función de aptitud evalúa qué tan bueno es un individuo (o cromosoma) en términos de su capacidad para realizar la tarea deseada, que en este caso es diseñar un circuito lógico que cumpla con las especificaciones del codificador de 7 segmentos.\n",
        "\n",
        "La función de aptitud se define como la diferencia absoluta entre las salidas esperadas y las salidas reales del circuito para un conjunto de entradas. Cuanto menor sea esta diferencia, mejor será la aptitud del individuo. La función de aptitud busca minimizar esta diferencia.\n"
      ],
      "metadata": {
        "id": "fTLzKrbKQw2j"
      }
    },
    {
      "cell_type": "code",
      "source": [
        "# Función de aptitud\n",
        "def aptitud(individuo):\n",
        "    try:\n",
        "        salidas_esperadas = [0, 1, 2, 3, 4, 5, 6, 7, 8, 9]\n",
        "        salidas_reales = []\n",
        "\n",
        "        num_entradas = len(terminales)\n",
        "        for digito in range(10):\n",
        "            entradas = [int(bit) for bit in format(digito, f'0{num_entradas}b')]\n",
        "            salida = evaluar_circuito(individuo, entradas)\n",
        "            salidas_reales.append(salida)\n",
        "\n",
        "        valor_aptitud = sum(abs(esperada - real) for esperada, real in zip(salidas_esperadas, salidas_reales))\n",
        "        return valor_aptitud\n",
        "    except ValueError:\n",
        "        return float('inf')"
      ],
      "metadata": {
        "id": "gxk_j9p8QxSI"
      },
      "execution_count": null,
      "outputs": []
    },
    {
      "cell_type": "code",
      "execution_count": 23,
      "metadata": {
        "colab": {
          "base_uri": "https://localhost:8080/",
          "height": 576
        },
        "id": "i3-WqpOtNu_N",
        "outputId": "415029ec-3512-42e4-c777-10a4b0403349"
      },
      "outputs": [
        {
          "output_type": "stream",
          "name": "stdout",
          "text": [
            "Mejor diseño: ['F', 'E', 'E', 'F', 'AND', 'D', 'XOR', 'XOR', 'G', 'C', 'OR', 'OR', 'OR']\n",
            "\n",
            "\n",
            "Aptitud del mejor diseño: 36\n",
            "\n",
            "\n"
          ]
        },
        {
          "output_type": "display_data",
          "data": {
            "text/plain": [
              "<Figure size 640x480 with 1 Axes>"
            ],
            "image/png": "[encoded data removed]"
          },
          "metadata": {}
        }
      ],
      "source": [
        "# Evaluación del circuito para un conjunto de entradas\n",
        "def evaluar_circuito(individuo, entradas):\n",
        "    pila = []\n",
        "    for gen in individuo:\n",
        "        if gen in terminales:\n",
        "            pila.append(entradas[terminales.index(gen)])\n",
        "        elif gen in funciones:\n",
        "            if gen == 'NOT':\n",
        "                if len(pila) >= 1:\n",
        "                    operando = pila.pop()\n",
        "                    resultado = funciones[gen](operando)\n",
        "                    pila.append(resultado)\n",
        "                else:\n",
        "                    raise ValueError(\"La operación 'NOT' necesita un operando en la pila.\")\n",
        "            else:\n",
        "                if len(pila) >= 2:\n",
        "                    operando2 = pila.pop()\n",
        "                    operando1 = pila.pop()\n",
        "                    resultado = funciones[gen](operando1, operando2)\n",
        "                    pila.append(resultado)\n",
        "                else:\n",
        "                    raise ValueError(\"La operación necesita dos operandos en la pila.\")\n",
        "    if len(pila) == 1:\n",
        "        return pila[0]\n",
        "    else:\n",
        "        raise ValueError(\"El diseño del circuito no es válido. Falta operar en algunos valores.\")\n",
        "\n",
        "# Creación de un individuo (cromosoma)\n",
        "def crear_individuo():\n",
        "    longitud_cromosoma = random.randint(10, 20)\n",
        "    return [random.choice(terminales + list(funciones.keys())) for _ in range(longitud_cromosoma)]\n",
        "\n",
        "# Tamaño de la población y número de generaciones\n",
        "tamano_poblacion = 500\n",
        "generaciones = 100\n",
        "tasa_mutacion = 0.1\n",
        "\n",
        "# Historia de la mejor aptitud para trazar la convergencia\n",
        "historia_mejor_aptitud = []\n",
        "\n",
        "# Creación de la población inicial\n",
        "poblacion = [crear_individuo() for _ in range(tamano_poblacion)]\n",
        "\n",
        "# Evolución de la población\n",
        "for generacion in range(generaciones):\n",
        "    valores_aptitud = [aptitud(individuo) for individuo in poblacion]\n",
        "    mejor_individuo = poblacion[valores_aptitud.index(min(valores_aptitud))]\n",
        "    historia_mejor_aptitud.append(aptitud(mejor_individuo))\n",
        "\n",
        "    # Utilizar selección de torneo para la selección\n",
        "    seleccionados = []\n",
        "    for _ in range(tamano_poblacion // 2):\n",
        "        torneo = random.sample(range(tamano_poblacion), 5)  # Torneo con 5 individuos aleatorios\n",
        "        ganador = min(torneo, key=lambda x: valores_aptitud[x])\n",
        "        seleccionados.append(poblacion[ganador])\n",
        "\n",
        "    nueva_poblacion = []\n",
        "    for _ in range(tamano_poblacion // 2):\n",
        "        padre1, padre2 = random.choices(seleccionados, k=2)\n",
        "        punto_cruce = random.randint(1, min(len(padre1), len(padre2)) - 1)\n",
        "        hijo1 = padre1[:punto_cruce] + padre2[punto_cruce:]\n",
        "        hijo2 = padre2[:punto_cruce] + padre1[punto_cruce:]\n",
        "\n",
        "        if random.random() < tasa_mutacion:\n",
        "            punto_mutacion = random.randint(0, len(hijo1) - 1)\n",
        "            hijo1[punto_mutacion] = random.choice(terminales + list(funciones.keys()))\n",
        "        if random.random() < tasa_mutacion:\n",
        "            punto_mutacion = random.randint(0, len(hijo2) - 1)\n",
        "            hijo2[punto_mutacion] = random.choice(terminales + list(funciones.keys()))\n",
        "\n",
        "        nueva_poblacion.extend([hijo1, hijo2])\n",
        "\n",
        "    poblacion = nueva_poblacion\n",
        "\n",
        "# Encontrar el mejor individuo después de la evolución\n",
        "mejor_individuo = poblacion[valores_aptitud.index(min(valores_aptitud))]\n",
        "mejor_aptitud = aptitud(mejor_individuo)\n",
        "\n",
        "print(\"Mejor diseño:\", mejor_individuo)\n",
        "print(\"\\n\")\n",
        "print(\"Aptitud del mejor diseño:\", mejor_aptitud)\n",
        "print(\"\\n\")\n",
        "# Gráfica de convergencia\n",
        "plt.plot(range(generaciones), historia_mejor_aptitud, marker='o')\n",
        "plt.xlabel(\"Generación\")\n",
        "plt.ylabel(\"Mejor Aptitud\")\n",
        "plt.title(\"Convergencia del Algoritmo Genético\")\n",
        "plt.grid(True)\n",
        "plt.show()\n"
      ]
    }
  ]
}