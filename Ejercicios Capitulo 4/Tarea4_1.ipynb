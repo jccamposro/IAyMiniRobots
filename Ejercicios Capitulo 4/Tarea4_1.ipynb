{
  "nbformat": 4,
  "nbformat_minor": 0,
  "metadata": {
    "colab": {
      "provenance": [],
      "authorship_tag": "ABX9TyPwRyLABgxz18xI+J2WDVJD"
    },
    "kernelspec": {
      "name": "python3",
      "display_name": "Python 3"
    },
    "language_info": {
      "name": "python"
    }
  },
  "cells": [
    {
      "cell_type": "markdown",
      "source": [
        "# Capitulo 4 Ejercicio 1\n",
        "\n",
        "Descargue Clojure, presente su relación con la PG y desarrolle un ejemplo.\n",
        "\n",
        "\n",
        "Clojure es un lenguaje de programación funcional y dinámico que se ejecuta en la máquina virtual de Java (JVM) y que se caracteriza por su énfasis en la inmutabilidad de los datos y la concurrencia. Clojure se utiliza en una variedad de aplicaciones, desde desarrollo web hasta análisis de datos y sistemas distribuidos.\n",
        "\n",
        "Programación genética, por otro lado, es un campo de la inteligencia artificial que utiliza técnicas inspiradas en la evolución natural para generar programas informáticos que resuelvan problemas específicos. En la programación genética, se crea una población de programas (a menudo representados como árboles de expresión) y se someten a procesos de selección, reproducción y mutación para evolucionar y mejorar el rendimiento de estos programas con el tiempo.\n",
        "\n",
        "La relación entre Clojure y la programación genética se da en el sentido de que Clojure es un lenguaje de programación que es muy adecuado para implementar algoritmos de programación genética debido a sus características funcionales y su facilidad para manipular datos inmutables.\n",
        "\n",
        "Clojure se adapta bien a la programación genética debido a su enfoque en la inmutabilidad, su manejo eficiente de datos y su capacidad para expresar de manera concisa operaciones complejas. Estas características hacen que Clojure sea una elección sólida para implementar algoritmos de programación genética de manera efectiva y elegante.\n"
      ],
      "metadata": {
        "id": "g35-daO2JGEj"
      }
    },
    {
      "cell_type": "markdown",
      "source": [
        "**Ejemplo de programación genética en Clojure**\n",
        "\n",
        "Problema ajuste de curva. En este ejemplo, intentaremos encontrar una fórmula matemática que se ajuste a un conjunto de datos de puntos (x, y)."
      ],
      "metadata": {
        "id": "wbOYBGe8Jmh_"
      }
    },
    {
      "cell_type": "markdown",
      "source": [
        "\n",
        "\n",
        "```\n",
        "(ns programacion-genetica\n",
        "  (:require [clojure.string :as str]))\n",
        "\n",
        ";; Función para evaluar la aptitud de un programa (una fórmula en este caso)\n",
        "(defn evaluar-aptitud [programa datos-entrenamiento]\n",
        "  (map (fn [dato]\n",
        "         {:dato dato\n",
        "          :aptitud (calcular-error programa dato)}) datos-entrenamiento))\n",
        "\n",
        ";; Función para calcular el error entre la fórmula y el dato\n",
        "(defn calcular-error [programa dato]\n",
        "  (let [[x y] dato]\n",
        "    ;; Supongamos que el programa es una fórmula de la forma (+ (* a x) b)\n",
        "    (let [a (first programa)\n",
        "          b (second programa)]\n",
        "      (Math/pow (- (+ (* a x) b) y) 2))))  ; Error cuadrado\n",
        "\n",
        ";; Función para generar una población inicial de programas\n",
        "(defn generar-programa-aleatorio []\n",
        "  [(rand) (rand)])  ; Genera coeficientes aleatorios para la fórmula\n",
        "\n",
        "(defn generar-poblacion-inicial [tamaño-poblacion]\n",
        "  (repeatedly tamaño-poblacion generar-programa-aleatorio))\n",
        "\n",
        ";; Función para seleccionar programas aptos\n",
        "(defn seleccionar-programas [poblacion datos-entrenamiento]\n",
        "  (let [aptitudes (evaluar-aptitud poblacion datos-entrenamiento)\n",
        "        ordenados (sort-by :aptitud aptitudes)]\n",
        "    (take (int (/ tamaño-poblacion 2)) ordenados)))\n",
        "\n",
        ";; Función para realizar la reproducción y mutación\n",
        "(defn reproducir-y-mutar [padres]\n",
        "  (let [padre1 (rand-nth padres)\n",
        "        padre2 (rand-nth padres)\n",
        "        punto-corte (rand-int (count padre1))]\n",
        "    (concat (take punto-corte padre1) (drop punto-corte padre2))))\n",
        "\n",
        ";; Función para evolucionar la población\n",
        "(defn evolucionar-poblacion [poblacion datos-entrenamiento]\n",
        "  (let [seleccionados (seleccionar-programas poblacion datos-entrenamiento)\n",
        "        descendencia (repeatedly (- tamaño-poblacion (count seleccionados))\n",
        "                                (fn [] (reproducir-y-mutar seleccionados)))]\n",
        "    (concat seleccionados descendencia)))\n",
        "\n",
        ";; Algoritmo principal\n",
        "(defn algoritmo-programacion-genetica [datos-entrenamiento generaciones tamaño-poblacion]\n",
        "  (loop [poblacion (generar-poblacion-inicial tamaño-poblacion)\n",
        "         generacion 0]\n",
        "    (if (= generacion generaciones)\n",
        "      (mejor-programa poblacion datos-entrenamiento)\n",
        "      (recur (evolucionar-poblacion poblacion datos-entrenamiento)\n",
        "             (inc generacion)))))\n",
        "\n",
        ";; Función para encontrar el mejor programa de la población\n",
        "(defn mejor-programa [poblacion datos-entrenamiento]\n",
        "  (let [aptitudes (evaluar-aptitud poblacion datos-entrenamiento)\n",
        "        mejor-programa (first (sort-by :aptitud aptitudes))]\n",
        "    (str \"Mejor programa encontrado: \" mejor-programa)))\n",
        "\n",
        ";; Datos de entrenamiento (pares de x, y)\n",
        "(def datos-entrenamiento [[1 2] [2 4] [3 6] [4 8] [5 10]])\n",
        "\n",
        ";; Ejecutar el algoritmo de programación genética\n",
        "(def resultado (algoritmo-programacion-genetica datos-entrenamiento 100 100))\n",
        "\n",
        "(println resultado)\n",
        "\n",
        "```\n",
        "\n"
      ],
      "metadata": {
        "id": "u6hT4TRjJ44B"
      }
    },
    {
      "cell_type": "markdown",
      "source": [],
      "metadata": {
        "id": "n0BixFlVJ-d5"
      }
    }
  ]
}