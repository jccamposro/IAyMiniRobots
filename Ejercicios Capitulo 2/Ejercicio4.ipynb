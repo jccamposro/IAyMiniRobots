{
  "nbformat": 4,
  "nbformat_minor": 0,
  "metadata": {
    "colab": {
      "provenance": []
    },
    "kernelspec": {
      "name": "python3",
      "display_name": "Python 3"
    },
    "language_info": {
      "name": "python"
    }
  },
  "cells": [
    {
      "cell_type": "code",
      "execution_count": 6,
      "metadata": {
        "colab": {
          "base_uri": "https://localhost:8080/"
        },
        "id": "AaBNoK5URltn",
        "outputId": "4a876350-d61e-42f4-eb73-cc2cc4d04579"
      },
      "outputs": [
        {
          "output_type": "execute_result",
          "data": {
            "text/plain": [
              "True"
            ]
          },
          "metadata": {},
          "execution_count": 6
        }
      ],
      "source": [
        "import cv2\n",
        "import numpy as np\n",
        "\n",
        "# Paso 1: Convertir la imagen a escala de grises\n",
        "imagen_color = cv2.imread('imagen_color.jpg')\n",
        "imagen_gris = cv2.cvtColor(imagen_color, cv2.COLOR_BGR2GRAY)\n",
        "\n",
        "# Paso 2: Crear una vecindad de Moore de 9 vecinos\n",
        "def obtener_vecindad(img_gris, fila, columna):\n",
        "    vecindad = []\n",
        "    for i in range(fila - 1, fila + 2):\n",
        "        for j in range(columna - 1, columna + 2):\n",
        "            vecindad.append(img_gris[i, j])\n",
        "    return vecindad\n",
        "\n",
        "# Paso 3: Obtener la regla para predecir el píxel a color\n",
        "def obtener_reglas(imagen_gris, imagen_color):\n",
        "    reglas = {}\n",
        "    filas, columnas = imagen_gris.shape\n",
        "\n",
        "    for fila in range(1, filas - 1):\n",
        "        for columna in range(1, columnas - 1):\n",
        "            vecindad_gris = obtener_vecindad(imagen_gris, fila, columna)\n",
        "            pixel_color = imagen_color[fila, columna]\n",
        "            reglas[tuple(vecindad_gris)] = pixel_color\n",
        "\n",
        "    return reglas\n",
        "\n",
        "# Paso 4: Guardar todas las reglas encontradas\n",
        "reglas = obtener_reglas(imagen_gris, imagen_color)\n",
        "\n",
        "# Paso 5: Generar la imagen a color restaurada\n",
        "filas, columnas = imagen_gris.shape\n",
        "imagen_restaurada = np.zeros((filas, columnas, 3), dtype=np.uint8)\n",
        "\n",
        "for fila in range(1, filas - 1):\n",
        "    for columna in range(1, columnas - 1):\n",
        "        vecindad_gris = obtener_vecindad(imagen_gris, fila, columna)\n",
        "        pixel_color_predicho = reglas.get(tuple(vecindad_gris), [0, 0, 0])\n",
        "        imagen_restaurada[fila, columna] = pixel_color_predicho\n",
        "\n",
        "# Paso 6: Guardar la imagen restaurada\n",
        "cv2.imwrite('imagen_restaurada.jpg', imagen_restaurada)\n",
        "\n",
        "# Ahora puedes cargar una foto antigua de tu casa en escala de grises y aplicar las mismas reglas para restaurarla\n",
        "imagen_casa_gris = cv2.imread('imagen_casa_gris.jpeg', cv2.IMREAD_GRAYSCALE)\n",
        "filas_casa, columnas_casa = imagen_casa_gris.shape\n",
        "imagen_casa_restaurada = np.zeros((filas_casa, columnas_casa, 3), dtype=np.uint8)\n",
        "\n",
        "for fila in range(1, filas_casa - 1):\n",
        "    for columna in range(1, columnas_casa - 1):\n",
        "        vecindad_gris = obtener_vecindad(imagen_casa_gris, fila, columna)\n",
        "        pixel_color_predicho = reglas.get(tuple(vecindad_gris), [0, 0, 0])\n",
        "        imagen_casa_restaurada[fila, columna] = pixel_color_predicho\n",
        "\n",
        "# Guardar la imagen restaurada de la casa\n",
        "cv2.imwrite('imagen_casa_restaurada.jpg', imagen_casa_restaurada)\n"
      ]
    }
  ]
}